{
 "cells": [
  {
   "cell_type": "code",
   "execution_count": 32,
   "id": "8039ca0c-e066-480b-8b27-a9febad0098e",
   "metadata": {},
   "outputs": [
    {
     "name": "stdout",
     "output_type": "stream",
     "text": [
      "   Example    Sky AirTemp Humidity    Wind Water Forecast Enjoy\n",
      "0        1  Sunny    Warm   Normal  Strong  Warm     Same   Yes\n",
      "1        2  Sunny    Warm     High  Strong  Warm     Same   Yes\n",
      "2        3  Rainy    Cold     High  Strong  Warm   Change    No\n",
      "3        4  Sunny    Warm     High  Strong  Cool   Change   Yes\n",
      "[[1 'Sunny' 'Warm' 'Normal' 'Strong' 'Warm' 'Same']\n",
      " [2 'Sunny' 'Warm' ' High' 'Strong' 'Warm' 'Same']\n",
      " [3 'Rainy' 'Cold' 'High' 'Strong' 'Warm' 'Change']\n",
      " [4 'Sunny' 'Warm' 'High' 'Strong' 'Cool' 'Change']]\n",
      "['Yes' 'Yes' 'No' 'Yes']\n",
      "['?' 'Sunny' 'Warm' '?' 'Strong' '?' '?']\n"
     ]
    }
   ],
   "source": [
    "import pandas as pd\n",
    "import numpy as np\n",
    "data=pd.read_csv('data.csv')\n",
    "print(data)\n",
    "concepts=np.array(data)[:,:-1]\n",
    "print(concepts)\n",
    "target=np.array(data)[:,-1]\n",
    "print(target)\n",
    "def train(con,tar):\n",
    "     for i,val in  enumerate(tar):\n",
    "         if val.lower()=='yes':\n",
    "             specific_h = con[i].copy()\n",
    "             break\n",
    "            \n",
    "     for i,val in enumerate(con):\n",
    "         if tar[i].lower()=='yes':\n",
    "             for x in range(len(specific_h)):\n",
    "                 if val[x] !=specific_h[x]:\n",
    "                     specific_h[x] = '?'\n",
    "                 else:\n",
    "                     pass\n",
    "     return specific_h\n",
    "\n",
    "print(train(concepts,target))\n",
    " \n",
    "\n",
    " "
   ]
  },
  {
   "cell_type": "code",
   "execution_count": null,
   "id": "5de9964c-99cd-4b2c-a935-6f9eb59392ad",
   "metadata": {},
   "outputs": [],
   "source": []
  }
 ],
 "metadata": {
  "kernelspec": {
   "display_name": "Python 3 (ipykernel)",
   "language": "python",
   "name": "python3"
  },
  "language_info": {
   "codemirror_mode": {
    "name": "ipython",
    "version": 3
   },
   "file_extension": ".py",
   "mimetype": "text/x-python",
   "name": "python",
   "nbconvert_exporter": "python",
   "pygments_lexer": "ipython3",
   "version": "3.12.3"
  }
 },
 "nbformat": 4,
 "nbformat_minor": 5
}
