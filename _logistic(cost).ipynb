{
 "cells": [
  {
   "cell_type": "code",
   "execution_count": 11,
   "id": "87862401-2490-4e1b-9839-549edb591387",
   "metadata": {},
   "outputs": [
    {
     "data": {
      "text/html": [
       "<div>\n",
       "<style scoped>\n",
       "    .dataframe tbody tr th:only-of-type {\n",
       "        vertical-align: middle;\n",
       "    }\n",
       "\n",
       "    .dataframe tbody tr th {\n",
       "        vertical-align: top;\n",
       "    }\n",
       "\n",
       "    .dataframe thead th {\n",
       "        text-align: right;\n",
       "    }\n",
       "</style>\n",
       "<table border=\"1\" class=\"dataframe\">\n",
       "  <thead>\n",
       "    <tr style=\"text-align: right;\">\n",
       "      <th></th>\n",
       "      <th>User ID</th>\n",
       "      <th>Gender</th>\n",
       "      <th>Age</th>\n",
       "      <th>EstimatedSalary</th>\n",
       "      <th>Purchased</th>\n",
       "    </tr>\n",
       "  </thead>\n",
       "  <tbody>\n",
       "    <tr>\n",
       "      <th>0</th>\n",
       "      <td>15624510</td>\n",
       "      <td>Male</td>\n",
       "      <td>19</td>\n",
       "      <td>19000</td>\n",
       "      <td>0</td>\n",
       "    </tr>\n",
       "    <tr>\n",
       "      <th>1</th>\n",
       "      <td>15810944</td>\n",
       "      <td>Male</td>\n",
       "      <td>35</td>\n",
       "      <td>20000</td>\n",
       "      <td>0</td>\n",
       "    </tr>\n",
       "    <tr>\n",
       "      <th>2</th>\n",
       "      <td>15668575</td>\n",
       "      <td>Female</td>\n",
       "      <td>26</td>\n",
       "      <td>43000</td>\n",
       "      <td>0</td>\n",
       "    </tr>\n",
       "    <tr>\n",
       "      <th>3</th>\n",
       "      <td>15603246</td>\n",
       "      <td>Female</td>\n",
       "      <td>27</td>\n",
       "      <td>57000</td>\n",
       "      <td>0</td>\n",
       "    </tr>\n",
       "    <tr>\n",
       "      <th>4</th>\n",
       "      <td>15804002</td>\n",
       "      <td>Male</td>\n",
       "      <td>19</td>\n",
       "      <td>76000</td>\n",
       "      <td>0</td>\n",
       "    </tr>\n",
       "  </tbody>\n",
       "</table>\n",
       "</div>"
      ],
      "text/plain": [
       "    User ID  Gender  Age  EstimatedSalary  Purchased\n",
       "0  15624510    Male   19            19000          0\n",
       "1  15810944    Male   35            20000          0\n",
       "2  15668575  Female   26            43000          0\n",
       "3  15603246  Female   27            57000          0\n",
       "4  15804002    Male   19            76000          0"
      ]
     },
     "execution_count": 11,
     "metadata": {},
     "output_type": "execute_result"
    }
   ],
   "source": [
    "import pandas as pd\n",
    "import numpy as np\n",
    "import matplotlib.pyplot as plt\n",
    "import seaborn as sns\n",
    "\n",
    "df=pd.read_csv(r\"C:\\Users\\ajayc\\Downloads\\networkadds.csv\")\n",
    "df.head()\n"
   ]
  },
  {
   "cell_type": "code",
   "execution_count": 15,
   "id": "f0b25ad0-6b8c-4bcb-8769-52e2e10a9805",
   "metadata": {},
   "outputs": [
    {
     "name": "stderr",
     "output_type": "stream",
     "text": [
      "C:\\Users\\ajayc\\AppData\\Local\\Temp\\ipykernel_56156\\3411185822.py:2: RuntimeWarning: overflow encountered in exp\n",
      "  return 1 / (1 + np.exp(-z))\n",
      "C:\\Users\\ajayc\\AppData\\Local\\Temp\\ipykernel_56156\\3411185822.py:6: RuntimeWarning: divide by zero encountered in log\n",
      "  cost = - (1/m) * np.sum(y * np.log(predictions) + (1 - y) * np.log(1 - predictions))\n",
      "C:\\Users\\ajayc\\AppData\\Local\\Temp\\ipykernel_56156\\3411185822.py:6: RuntimeWarning: invalid value encountered in multiply\n",
      "  cost = - (1/m) * np.sum(y * np.log(predictions) + (1 - y) * np.log(1 - predictions))\n"
     ]
    },
    {
     "name": "stdout",
     "output_type": "stream",
     "text": [
      "Optimized theta: [  -0.85        -0.773375  -185.5625       1.9930625]\n"
     ]
    },
    {
     "data": {
      "image/png": "[encoded data removed]",
      "text/plain": [
       "<Figure size 640x480 with 1 Axes>"
      ]
     },
     "metadata": {},
     "output_type": "display_data"
    }
   ],
   "source": [
    "def sigmoid(z):\n",
    "    return 1 / (1 + np.exp(-z))\n",
    "def compute_cost(X, y, theta):\n",
    "    m = len(y)  # number of training examples\n",
    "    predictions = sigmoid(X.dot(theta))  # hypothesis\n",
    "    cost = - (1/m) * np.sum(y * np.log(predictions) + (1 - y) * np.log(1 - predictions))\n",
    "    return cost\n",
    "def gradient_descent(X, y, theta, learning_rate, iterations):\n",
    "    m = len(y)\n",
    "    cost_history = []\n",
    "\n",
    "    for i in range(iterations):\n",
    "        predictions = sigmoid(X.dot(theta))\n",
    "        theta -= (learning_rate / m) * X.T.dot(predictions - y)\n",
    "        cost_history.append(compute_cost(X, y, theta))\n",
    "\n",
    "    return theta, cost_history\n",
    "X = data.drop(columns=['Gender_Female','Gender_Male'])  # Assuming 'Target' is the target variable column\n",
    "y = data['Purchased'] \n",
    "X = np.c_[np.ones(X.shape[0]), X] \n",
    "y = y.values\n",
    "theta = np.zeros(X.shape[1])\n",
    "\n",
    "# Set hyperparameters\n",
    "learning_rate = 0.01\n",
    "iterations = 1000\n",
    "\n",
    "# Train the logistic regression model using gradient descent\n",
    "theta, cost_history = gradient_descent(X, y, theta, learning_rate, iterations)\n",
    "\n",
    "# Print the final model parameters\n",
    "print(f\"Optimized theta: {theta}\")\n",
    "plt.plot(range(iterations), cost_history, color='blue')\n",
    "plt.xlabel('Number of iterations')\n",
    "plt.ylabel('Cost (Log Loss)')\n",
    "plt.title('Cost Function vs. Iterations')\n",
    "plt.show()\n"
   ]
  },
  {
   "cell_type": "code",
   "execution_count": 11,
   "id": "54f3f98b-40c5-411b-8644-bc6c6598a181",
   "metadata": {},
   "outputs": [
    {
     "data": {
      "text/html": [
       "<div>\n",
       "<style scoped>\n",
       "    .dataframe tbody tr th:only-of-type {\n",
       "        vertical-align: middle;\n",
       "    }\n",
       "\n",
       "    .dataframe tbody tr th {\n",
       "        vertical-align: top;\n",
       "    }\n",
       "\n",
       "    .dataframe thead th {\n",
       "        text-align: right;\n",
       "    }\n",
       "</style>\n",
       "<table border=\"1\" class=\"dataframe\">\n",
       "  <thead>\n",
       "    <tr style=\"text-align: right;\">\n",
       "      <th></th>\n",
       "      <th>Unnamed: 0</th>\n",
       "      <th>YearsExperience</th>\n",
       "      <th>Salary</th>\n",
       "    </tr>\n",
       "  </thead>\n",
       "  <tbody>\n",
       "    <tr>\n",
       "      <th>0</th>\n",
       "      <td>0</td>\n",
       "      <td>1.2</td>\n",
       "      <td>39344.0</td>\n",
       "    </tr>\n",
       "    <tr>\n",
       "      <th>1</th>\n",
       "      <td>1</td>\n",
       "      <td>1.4</td>\n",
       "      <td>46206.0</td>\n",
       "    </tr>\n",
       "    <tr>\n",
       "      <th>2</th>\n",
       "      <td>2</td>\n",
       "      <td>1.6</td>\n",
       "      <td>37732.0</td>\n",
       "    </tr>\n",
       "    <tr>\n",
       "      <th>3</th>\n",
       "      <td>3</td>\n",
       "      <td>2.1</td>\n",
       "      <td>43526.0</td>\n",
       "    </tr>\n",
       "    <tr>\n",
       "      <th>4</th>\n",
       "      <td>4</td>\n",
       "      <td>2.3</td>\n",
       "      <td>39892.0</td>\n",
       "    </tr>\n",
       "  </tbody>\n",
       "</table>\n",
       "</div>"
      ],
      "text/plain": [
       "   Unnamed: 0  YearsExperience   Salary\n",
       "0           0              1.2  39344.0\n",
       "1           1              1.4  46206.0\n",
       "2           2              1.6  37732.0\n",
       "3           3              2.1  43526.0\n",
       "4           4              2.3  39892.0"
      ]
     },
     "execution_count": 11,
     "metadata": {},
     "output_type": "execute_result"
    }
   ],
   "source": [
    "import matplotlib as plt\n",
    "import pandas as pd\n",
    "import numpy as np\n",
    "\n",
    "df=pd.read_csv(r\"C:\\Users\\ajayc\\Downloads\\Salary_dataset.xls\")\n",
    "df.head()\n"
   ]
  },
  {
   "cell_type": "code",
   "execution_count": 13,
   "id": "33b1ff16-8c0a-42cd-b3d3-90776f44349f",
   "metadata": {},
   "outputs": [
    {
     "name": "stdout",
     "output_type": "stream",
     "text": [
      "x[0]=[0.  1.2] y[0]=39344.0\n"
     ]
    }
   ],
   "source": [
    "x=df.iloc[:,:-1].values\n",
    "y=df.iloc[:,-1].values\n",
    "m,n=x.shape\n",
    "print('x[0]={} y[0]={}'.format(x[0],y[0]))"
   ]
  },
  {
   "cell_type": "code",
   "execution_count": 15,
   "id": "296d49bf-76e8-446b-9996-4c2922837072",
   "metadata": {},
   "outputs": [
    {
     "name": "stdout",
     "output_type": "stream",
     "text": [
      "x[0]=[1.  0.  1.2] y[0]=39344.0\n"
     ]
    },
    {
     "data": {
      "text/plain": [
       "(30, 3)"
      ]
     },
     "execution_count": 15,
     "metadata": {},
     "output_type": "execute_result"
    }
   ],
   "source": [
    "def sigmoid(z):\n",
    "    return np.dot(x,theta)\n",
    "def lr_hypothesis(x,theta):\n",
    "    return np.dot(x,theta)\n",
    "\n",
    "z=np.ones(m)\n",
    "z=z.reshape(m,1)\n",
    "x=np.append(z,x,axis=1)\n",
    "\n",
    "print('x[0]={} y[0]={}'.format(x[0],y[0]))\n",
    "x.shape"
   ]
  },
  {
   "cell_type": "code",
   "execution_count": 21,
   "id": "55882d9c-fbb3-4a42-93a9-1b716adbb692",
   "metadata": {},
   "outputs": [
    {
     "name": "stdout",
     "output_type": "stream",
     "text": [
      "-76027.02585853025\n"
     ]
    }
   ],
   "source": [
    "m,n=x.shape\n",
    "theta=np.zeros(n)\n",
    "theta=theta.reshape(n,1)\n",
    "y=y.reshape(-1,1)\n",
    "\n",
    "def compute_cost(theta,x,y):\n",
    "    epsilon = 1e-10\n",
    "    predictions = sigmoid(lr_hypothesis(x, theta))\n",
    "    predictions = np.clip(predictions, epsilon, 1 - epsilon)\n",
    "    infunc = -y + np.log(predictions) - (1 - y) * np.log(1 - predictions) \n",
    "    j=np.sum(infunc)/m\n",
    "    return j\n",
    "L=compute_cost(theta,x,y)\n",
    "print(L)"
   ]
  },
  {
   "cell_type": "code",
   "execution_count": 26,
   "id": "8d49f63d-e3f4-432b-a5ea-23ea83b71d74",
   "metadata": {},
   "outputs": [
    {
     "name": "stdout",
     "output_type": "stream",
     "text": [
      "[[-6.09185950e+11]\n",
      " [-1.19139549e+13]\n",
      " [-4.28022118e+12]]\n"
     ]
    }
   ],
   "source": [
    "iterations=500000\n",
    "alpha=0.01\n",
    "def gradientDescent(x,y,theta,alpha,iterations):\n",
    "    for _ in range(iterations):\n",
    "        infunc1=sigmoid(lr_hypothesis(x,theta))-y\n",
    "        gradient=np.dot(x.transpose(),infunc1)/m\n",
    "        theta=theta-(alpha/m)*gradient\n",
    "    return theta\n",
    "theta=gradientDescent(x,y,theta,alpha,iterations)\n",
    "print(theta)"
   ]
  },
  {
   "cell_type": "code",
   "execution_count": 28,
   "id": "884bd20e-5649-4783-92d2-8d000e71f4ac",
   "metadata": {},
   "outputs": [
    {
     "name": "stdout",
     "output_type": "stream",
     "text": [
      "-76027.02585853025\n"
     ]
    }
   ],
   "source": [
    "L=compute_cost(theta,x,y)\n",
    "\n",
    "print(L)"
   ]
  },
  {
   "cell_type": "code",
   "execution_count": null,
   "id": "f3e5915c-21ae-4e00-a358-553a0172934c",
   "metadata": {},
   "outputs": [],
   "source": [
    "import pandas as pd\n",
    "import math\n",
    "\n",
    "df = pd.read_csv(r\"C:\\Users\\ajayc\\Downloads\\loan (1).csv\")\n",
    "df[\"y_binary\"] = (df[\"loan_status\"] == \"Approved\").astype(int)\n",
    "X = df[[\"age\", \"income\", \"credit_score\"]].values\n",
    "y = df['y_binary'].values\n",
    "\n",
    "def sigmoid(z):\n",
    "    if z >= 0:\n",
    "        return 1 / (1 + math.exp(-z))\n",
    "    else:\n",
    "        exp_z = math.exp(z)\n",
    "        return exp_z / (1 + exp_z)\n",
    "    \n",
    "\n",
    "def calculate_cost(X, y, weights):\n",
    "    m = len(y)\n",
    "    total_cost = 0\n",
    "    for i in range(m):\n",
    "        prediction = sigmoid(sum(X[i][j] * weights[j] for j in range(len(weights))))\n",
    "        total_cost += - (y[i] * math.log(prediction) + (1 - y[i]) * math.log(1 - prediction))\n",
    "    return total_cost / m\n",
    "\n",
    "def gd(X, y, m, alpha, iter):\n",
    "    weights = [0.0] * len(X[0])\n",
    "    for _ in range(iter):\n",
    "        predictions = []\n",
    "        for i in range(len(y)):\n",
    "            pred = sigmoid(sum(X[i][j] * weights[j] for j in range(len(weights))))\n",
    "            predictions.append(pred)\n",
    "        for j in range(len(weights)):\n",
    "            gradient = sum((predictions[i] - y[i]) * X[i][j] for i in range(len(y))) / len(y)\n",
    "            weights[j] -= alpha * gradient\n",
    "    return weights\n",
    "\n",
    "m = 0\n",
    "alpha = 0.01\n",
    "iter = 1000\n",
    "final_weights = gd(X, y, m, alpha, iter)\n",
    "print(\"Final Coefficient is:\", final_weights)"
   ]
  }
 ],
 "metadata": {
  "kernelspec": {
   "display_name": "Python 3 (ipykernel)",
   "language": "python",
   "name": "python3"
  },
  "language_info": {
   "codemirror_mode": {
    "name": "ipython",
    "version": 3
   },
   "file_extension": ".py",
   "mimetype": "text/x-python",
   "name": "python",
   "nbconvert_exporter": "python",
   "pygments_lexer": "ipython3",
   "version": "3.12.3"
  }
 },
 "nbformat": 4,
 "nbformat_minor": 5
}
