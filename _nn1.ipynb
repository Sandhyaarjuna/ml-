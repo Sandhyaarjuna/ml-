{
 "cells": [
  {
   "cell_type": "code",
   "execution_count": 22,
   "id": "15d00eef-cf0b-4bad-9e38-d41df2f72f6b",
   "metadata": {},
   "outputs": [
    {
     "name": "stdout",
     "output_type": "stream",
     "text": [
      "found weight 1\n"
     ]
    },
    {
     "data": {
      "image/png": "[encoded data removed]",
      "text/plain": [
       "<Figure size 640x480 with 1 Axes>"
      ]
     },
     "metadata": {},
     "output_type": "display_data"
    }
   ],
   "source": [
    "input=1\n",
    "y=7.8 #ori output\n",
    "weight=1\n",
    "for i in range(0,100):\n",
    "    yn=input*weight #yn=network output\n",
    "    error=(y-yh)\n",
    "    if(error<=0):\n",
    "        print(\"found weight\",weight)\n",
    "        break\n",
    "    else:\n",
    "        dedw=-(input/input)*0.1 #derivative weight\n",
    "        weight=weight-dedw\n",
    "import matplotlib.pyplot as plt\n",
    "plt.plot(error)\n",
    "plt.title(\"Error Over Iterations\")\n",
    "plt.xlabel(\"Iterations\")\n",
    "plt.ylabel(\"Error\")\n",
    "plt.axhline(0, color='red', linestyle='dashdot')  # Line at error = 0\n",
    "plt.grid()\n",
    "plt.show()\n",
    "\n",
    " "
   ]
  },
  {
   "cell_type": "code",
   "execution_count": 8,
   "id": "c2c368ea-1cac-4e63-a32a-10a8cb9b4234",
   "metadata": {},
   "outputs": [
    {
     "name": "stdout",
     "output_type": "stream",
     "text": [
      "2.0.2\n",
      "1.5.2\n",
      "1.14.1\n",
      "2.18.0\n"
     ]
    }
   ],
   "source": [
    "import numpy as np\n",
    "import sklearn\n",
    "import scipy\n",
    "\n",
    "print(np.__version__)\n",
    "print(sklearn.__version__)\n",
    "print(scipy.__version__)\n",
    "import tensorflow as tf\n",
    "print(tf.__version__)"
   ]
  },
  {
   "cell_type": "code",
   "execution_count": 3,
   "id": "f28f42fc-92fd-4e8a-ba23-d6de44bed3e9",
   "metadata": {},
   "outputs": [
    {
     "name": "stdout",
     "output_type": "stream",
     "text": [
      "2.18.0\n",
      "\u001b[1m1/1\u001b[0m \u001b[32m━━━━━━━━━━━━━━━━━━━━\u001b[0m\u001b[37m\u001b[0m \u001b[1m0s\u001b[0m 100ms/step\n",
      "Predicted:  [[1]\n",
      " [1]\n",
      " [1]\n",
      " [1]\n",
      " [0]\n",
      " [1]\n",
      " [0]]\n",
      "Trained weights: \n",
      "Weights:  [[ 0.42748922  0.8269444 ]\n",
      " [ 0.29885963  0.6634202 ]\n",
      " [-1.6568216   1.4293762 ]]\n",
      "Biases:  [ 0.9519506 -0.5080203]\n",
      "Weights:  [[-1.6411693]\n",
      " [ 1.08002  ]]\n",
      "Biases:  [-0.34377533]\n",
      "Predicted Classes: [[1]\n",
      " [1]\n",
      " [1]\n",
      " [1]\n",
      " [0]\n",
      " [1]\n",
      " [0]]\n"
     ]
    }
   ],
   "source": [
    "import numpy as np\n",
    "import cv2\n",
    "import tensorflow as tf\n",
    "print(tf.__version__)\n",
    "from tensorflow.keras.models import Sequential\n",
    "from tensorflow.keras.layers import Dense, Input\n",
    "\n",
    "X= np.array([[0, 0, 1],\n",
    "            [1, 1, 1],\n",
    "            [1, 0, 1],\n",
    "            [0, 1, 1],\n",
    "            [0, 1, 0],\n",
    "            [1, 0, 1],\n",
    "            [1, 0, 0]])\n",
    "\n",
    "Y = np.array([[0], [1], [1], [1], [0], [1], [0]])\n",
    "\n",
    "model = tf.keras.Sequential([\n",
    "    tf.keras.layers.Input(shape=(3,)),\n",
    "    tf.keras.layers.Dense(2, activation='relu'),                     \n",
    "    tf.keras.layers.Dense(1, activation = 'sigmoid')\n",
    "])      \n",
    "model.compile(optimizer = \"adam\", loss = \"binary_crossentropy\", metrics = [\"accuracy\"])\n",
    "\n",
    "model.fit(X, Y, epochs = 1000, verbose = 0)\n",
    "\n",
    "prediction = model.predict(X)\n",
    "predicted_classes = (prediction > 0.5).astype(int)\n",
    "print(\"Predicted: \", (prediction > 0.5).astype(int))\n",
    "\n",
    "print(\"Trained weights: \")\n",
    "for layer in model.layers:\n",
    "    weights, biases = layer.get_weights()\n",
    "    print(\"Weights: \", weights)\n",
    "    print(\"Biases: \", biases)\n",
    "\n",
    "image = np.ones((600, 800, 3), dtype=np.uint8) * 255\n",
    "\n",
    "color_input = (0, 0, 255)  #input layer (red)\n",
    "color_hidden = (0, 255, 0)  # hidden layer(green) \n",
    "color_output = (255, 0, 0)  # output(blu)\n",
    "color_connection = (0, 0, 0)  #  connections(black)\n",
    "\n",
    "input_layer_coords = [(150, 100), (150, 200), (150, 300)]  # 3 input nodes  \n",
    "hidden_layer_coords = [(300, 150), (300, 250)]  # 2 hidden neurons\n",
    "output_layer_coords = [(450, 200)]\n",
    "\n",
    "for i, (x, y) in enumerate(input_layer_coords):\n",
    "    cv2.circle(image, (x, y), 20, color_input, -1)\n",
    "    cv2.putText(image, f'X{i+1}', (x-10, y+5), cv2.FONT_HERSHEY_SIMPLEX, 0.8, (255, 255, 255), 2)\n",
    " \n",
    " \n",
    "for i, (x, y) in enumerate(hidden_layer_coords):\n",
    "    cv2.circle(image, (x, y), 20, color_hidden, -1)\n",
    "    cv2.putText(image, f'H{i+1}', (x-10, y+5), cv2.FONT_HERSHEY_SIMPLEX, 0.8, (255, 255, 255), 2)\n",
    " \n",
    "for i, (x, y) in enumerate(output_layer_coords):\n",
    "    cv2.circle(image, (x, y), 20, color_output, -1)\n",
    "    cv2.putText(image, 'Output', (x-30, y+5), cv2.FONT_HERSHEY_SIMPLEX, 0.8, (255, 255, 255), 2) \n",
    "\n",
    "for i, (x_input, y_input) in enumerate(input_layer_coords):\n",
    "    for x_hidden, y_hidden in hidden_layer_coords:\n",
    "        cv2.line(image, (x_input, y_input), (x_hidden, y_hidden), color_connection, 2)\n",
    "\n",
    "for x_hidden, y_hidden in hidden_layer_coords:\n",
    "    for x_output, y_output in output_layer_coords:\n",
    "        cv2.line(image, (x_hidden, y_hidden), (x_output, y_output), color_connection, 2)\n",
    "\n",
    "cv2.imshow(\"Neural Network Structure\", image)\n",
    "cv2.waitKey(0)\n",
    "cv2.destroyAllWindows()\n",
    "\n",
    "print(\"Predicted Classes:\", predicted_classes) \n"
   ]
  },
  {
   "cell_type": "code",
   "execution_count": null,
   "id": "ace0b8c6-ce45-4713-b46b-362b234aa115",
   "metadata": {},
   "outputs": [],
   "source": []
  }
 ],
 "metadata": {
  "kernelspec": {
   "display_name": "Python (myenv)",
   "language": "python",
   "name": "myenv"
  },
  "language_info": {
   "codemirror_mode": {
    "name": "ipython",
    "version": 3
   },
   "file_extension": ".py",
   "mimetype": "text/x-python",
   "name": "python",
   "nbconvert_exporter": "python",
   "pygments_lexer": "ipython3",
   "version": "3.12.3"
  }
 },
 "nbformat": 4,
 "nbformat_minor": 5
}
