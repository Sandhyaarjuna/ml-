{
 "cells": [
  {
   "cell_type": "code",
   "execution_count": 1,
   "id": "b1a659b0-8948-4e50-bb73-911228442832",
   "metadata": {},
   "outputs": [
    {
     "name": "stdout",
     "output_type": "stream",
     "text": [
      "    Unnamed: 0  YearsExperience    Salary\n",
      "0            0              1.2   39344.0\n",
      "1            1              1.4   46206.0\n",
      "2            2              1.6   37732.0\n",
      "3            3              2.1   43526.0\n",
      "4            4              2.3   39892.0\n",
      "5            5              3.0   56643.0\n",
      "6            6              3.1   60151.0\n",
      "7            7              3.3   54446.0\n",
      "8            8              3.3   64446.0\n",
      "9            9              3.8   57190.0\n",
      "10          10              4.0   63219.0\n",
      "11          11              4.1   55795.0\n",
      "12          12              4.1   56958.0\n",
      "13          13              4.2   57082.0\n",
      "14          14              4.6   61112.0\n",
      "15          15              5.0   67939.0\n",
      "16          16              5.2   66030.0\n",
      "17          17              5.4   83089.0\n",
      "18          18              6.0   81364.0\n",
      "19          19              6.1   93941.0\n",
      "20          20              6.9   91739.0\n",
      "21          21              7.2   98274.0\n",
      "22          22              8.0  101303.0\n",
      "23          23              8.3  113813.0\n",
      "24          24              8.8  109432.0\n",
      "25          25              9.1  105583.0\n",
      "26          26              9.6  116970.0\n",
      "27          27              9.7  112636.0\n",
      "28          28             10.4  122392.0\n",
      "29          29             10.6  121873.0\n"
     ]
    }
   ],
   "source": [
    "import numpy as np\n",
    "import pandas as pd\n",
    "import matplotlib.pyplot as plt\n",
    "df=pd.read_csv(r'C:\\Users\\ajayc\\Downloads\\Salary_dataset.csv')\n",
    "df.head()\n",
    "x=df[['YearsExperience' ]]\n",
    "y=df['Salary']\n",
    "print(df)\n",
    " \n",
    " \n",
    " \n"
   ]
  },
  {
   "cell_type": "code",
   "execution_count": 13,
   "id": "d9902112-a530-4e1a-93d3-10e334867879",
   "metadata": {},
   "outputs": [
    {
     "ename": "NameError",
     "evalue": "name 'x' is not defined",
     "output_type": "error",
     "traceback": [
      "\u001b[1;31m---------------------------------------------------------------------------\u001b[0m",
      "\u001b[1;31mNameError\u001b[0m                                 Traceback (most recent call last)",
      "Cell \u001b[1;32mIn[13], line 28\u001b[0m\n\u001b[0;32m     26\u001b[0m learning_rate\u001b[38;5;241m=\u001b[39m\u001b[38;5;241m0.0001\u001b[39m\n\u001b[0;32m     27\u001b[0m iterations\u001b[38;5;241m=\u001b[39m\u001b[38;5;241m1000\u001b[39m\n\u001b[1;32m---> 28\u001b[0m params,costs\u001b[38;5;241m=\u001b[39mgradient_descent(x,y,learning_rate,iterations)\n\u001b[0;32m     29\u001b[0m \u001b[38;5;28mlen\u001b[39m(costs)\n\u001b[0;32m     30\u001b[0m plt\u001b[38;5;241m.\u001b[39mplot(np\u001b[38;5;241m.\u001b[39marange(\u001b[38;5;241m1000\u001b[39m),costs,label\u001b[38;5;241m=\u001b[39m\u001b[38;5;124m'\u001b[39m\u001b[38;5;124mcost\u001b[39m\u001b[38;5;124m'\u001b[39m)\n",
      "\u001b[1;31mNameError\u001b[0m: name 'x' is not defined"
     ]
    }
   ],
   "source": [
    "#implementation of hypothesis function\n",
    "def comp_hypo(params,x):\n",
    "    predictions=np.matmul(x,params)\n",
    "    return predictions\n",
    "#to compute cost func using MSE\n",
    "def comp_cost(predictions,actual):\n",
    "    m=len(actual)\n",
    "    errors=predictions-actual\n",
    "    squared_errors=errors*errors\n",
    "    mse=np.sum(squared_errors)/(2*m)\n",
    "    return mse\n",
    "#implementation of gradient descent\n",
    "def gradient_descent(x,y,learning_rate,iterations):\n",
    "    actual=y\n",
    "    costs=[]\n",
    "    m,n=x.shape\n",
    "    params=np.zeros(n)\n",
    "    \n",
    "    for i in range(iterations):\n",
    "        predictions=comp_hypo(params,x)\n",
    "        errors=predictions-actual\n",
    "        costs.append(comp_cost(predictions,actual))\n",
    "        gradients=(1/m)*np.matmul(x.T,errors)\n",
    "        params=params-(learning_rate*gradients)\n",
    "    return params,costs\n",
    "learning_rate=0.0001\n",
    "iterations=1000\n",
    "params,costs=gradient_descent(x,y,learning_rate,iterations)\n",
    "len(costs)\n",
    "plt.plot(np.arange(1000),costs,label='cost')\n",
    "plt.legend(loc=\"upper right\") \n",
    "plt.xlabel('Iterations')\n",
    "plt.ylabel('Cost')\n",
    "plt.title('Cost Function Over Iterations')\n",
    "plt.show()\n",
    "\n",
    " \n"
   ]
  },
  {
   "cell_type": "code",
   "execution_count": 19,
   "id": "f74e3225-b28c-4235-bba3-47cb455763fc",
   "metadata": {},
   "outputs": [
    {
     "name": "stdout",
     "output_type": "stream",
     "text": [
      "(1, 1)\n",
      "Predictions:\n",
      " [[ 15310.1171712 ]\n",
      " [ 17861.8033664 ]\n",
      " [ 20413.4895616 ]\n",
      " [ 26792.7050496 ]\n",
      " [ 29344.3912448 ]\n",
      " [ 38275.292928  ]\n",
      " [ 39551.1360256 ]\n",
      " [ 42102.8222208 ]\n",
      " [ 42102.8222208 ]\n",
      " [ 48482.03770881]\n",
      " [ 51033.72390401]\n",
      " [ 52309.56700161]\n",
      " [ 52309.56700161]\n",
      " [ 53585.41009921]\n",
      " [ 58688.78248961]\n",
      " [ 63792.15488001]\n",
      " [ 66343.84107521]\n",
      " [ 68895.52727041]\n",
      " [ 76550.58585601]\n",
      " [ 77826.42895361]\n",
      " [ 88033.17373441]\n",
      " [ 91860.70302721]\n",
      " [102067.44780801]\n",
      " [105894.97710081]\n",
      " [112274.19258881]\n",
      " [116101.72188161]\n",
      " [122480.93736961]\n",
      " [123756.78046721]\n",
      " [132687.68215042]\n",
      " [135239.36834562]]\n"
     ]
    },
    {
     "data": {
      "image/png": "[encoded data removed]",
      "text/plain": [
       "<Figure size 640x480 with 1 Axes>"
      ]
     },
     "metadata": {},
     "output_type": "display_data"
    }
   ],
   "source": [
    "params = np.array(params)  \n",
    "x = np.array(x) \n",
    "print(params.shape)\n",
    "if params.ndim == 1:\n",
    "    params = params.reshape(-1, 1)\n",
    "predictions=np.matmul(x,params)\n",
    "print(\"Predictions:\\n\", predictions)\n",
    "plt.scatter(x[:,0],y,label=\"actual\")\n",
    "plt.plot(x[:,0], np.matmul(x, params), color='red', label=\"Predictions\") \n",
    "plt.legend(loc='upper left')\n",
    "plt.show()"
   ]
  },
  {
   "cell_type": "code",
   "execution_count": null,
   "id": "462b62b0-af9c-4349-a82c-bbba04af92b0",
   "metadata": {},
   "outputs": [],
   "source": []
  }
 ],
 "metadata": {
  "kernelspec": {
   "display_name": "Python 3 (ipykernel)",
   "language": "python",
   "name": "python3"
  },
  "language_info": {
   "codemirror_mode": {
    "name": "ipython",
    "version": 3
   },
   "file_extension": ".py",
   "mimetype": "text/x-python",
   "name": "python",
   "nbconvert_exporter": "python",
   "pygments_lexer": "ipython3",
   "version": "3.12.4"
  }
 },
 "nbformat": 4,
 "nbformat_minor": 5
}
