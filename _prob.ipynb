{
 "cells": [
  {
   "cell_type": "code",
   "execution_count": 10,
   "id": "a72b7775-d858-46a1-8fb4-cbb46c57bcf0",
   "metadata": {},
   "outputs": [
    {
     "name": "stdout",
     "output_type": "stream",
     "text": [
      "Simulated conversions (p=0.1): 46\n",
      "Simulated conversions (p=0.1): 43\n",
      "Posterior Samples (probabilities of conversion): [0.06010983831702954, 0.06276982206172166, 0.0512739664771692, 0.05342078391434302, 0.04463874476825247, 0.03760670490080742, 0.030213511956792116, 0.07062171693484098, 0.047132957680104615, 0.0731019849748048]\n"
     ]
    }
   ],
   "source": [
    "import pandas as pd\n",
    "import numpy as np\n",
    "from random import random\n",
    "\n",
    "# Define the number of conversions observed and the total number of trials\n",
    "n_converted = 20\n",
    "N = 400\n",
    "\n",
    "# Uniform prior sampler (samples from a uniform distribution between 0 and 1)\n",
    "def uniform_prior_sampler():\n",
    "    while True:\n",
    "        yield random()  # Return a random float in [0, 1]\n",
    "\n",
    "# Simulate the number of conversions based on the probability p\n",
    "def simulate_conversion(p):\n",
    "    conversions = 0\n",
    "    for i in range(N):\n",
    "        if random() < p:  # If the random number is less than p, it's a conversion\n",
    "            conversions += 1\n",
    "    return conversions\n",
    "\n",
    "# Bayesian update using the observed data (n_converted) and prior sampler\n",
    "def abayes(data, prior_sampler, simulate):\n",
    "    for p in prior_sampler:\n",
    "        if simulate(p) == data:  # If the simulated conversions match the observed data\n",
    "            yield p  # Yield the prior sample that generated the observed data\n",
    "\n",
    "# Simulate conversions with some probability (0.1 in this case)\n",
    "print(f\"Simulated conversions (p=0.1): {simulate_conversion(0.1)}\")\n",
    "print(f\"Simulated conversions (p=0.1): {simulate_conversion(0.1)}\")\n",
    "\n",
    "# Now, we sample from the posterior distribution using Bayesian update\n",
    "posterior_sampler = abayes(n_converted, uniform_prior_sampler(), simulate_conversion)\n",
    "\n",
    "# Let's take a few samples from the posterior distribution\n",
    "posterior_samples = [next(posterior_sampler) for _ in range(10)]  # Take 10 posterior samples\n",
    "print(f\"Posterior Samples (probabilities of conversion): {posterior_samples}\")"
   ]
  },
  {
   "cell_type": "code",
   "execution_count": null,
   "id": "44abf2b5-9bbc-4eae-b125-13ca6bda0af0",
   "metadata": {},
   "outputs": [],
   "source": []
  }
 ],
 "metadata": {
  "kernelspec": {
   "display_name": "Python 3 (ipykernel)",
   "language": "python",
   "name": "python3"
  },
  "language_info": {
   "codemirror_mode": {
    "name": "ipython",
    "version": 3
   },
   "file_extension": ".py",
   "mimetype": "text/x-python",
   "name": "python",
   "nbconvert_exporter": "python",
   "pygments_lexer": "ipython3",
   "version": "3.12.3"
  }
 },
 "nbformat": 4,
 "nbformat_minor": 5
}
